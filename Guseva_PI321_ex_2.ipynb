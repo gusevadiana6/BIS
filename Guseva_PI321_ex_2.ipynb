{
  "nbformat": 4,
  "nbformat_minor": 0,
  "metadata": {
    "colab": {
      "name": "Gibadullina PI321 ex.2.ipynb",
      "provenance": [],
      "collapsed_sections": []
    },
    "kernelspec": {
      "name": "python3",
      "display_name": "Python 3"
    },
    "language_info": {
      "name": "python"
    }
  },
  "cells": [
    {
      "cell_type": "markdown",
      "source": [
        "# **Греческий алфавит**"
      ],
      "metadata": {
        "id": "80TN9idrmd6q"
      }
    },
    {
      "cell_type": "markdown",
      "source": [
        "Заглавная| Строчная | Название\n",
        "------|:--------:|------:\n",
        "Α     | $\\alpha$    | альфа\n",
        "Β     | $\\beta$     | бета\n",
        "Γ     | $\\gamma$     | гамма\n",
        "$\\Delta$     | $\\delta$     | дельа\n",
        "Ε     | $\\epsilon$, $\\varepsilon$    | эпсилон\n",
        "Ζ     | $\\zeta$     | дзета\n",
        "Η     | $\\eta$     | эта\n",
        "$\\Theta$     | $\\theta$, $\\vartheta$  | тета\n",
        "Ι     | $\\iota$     | йота\n",
        "Κ     | $\\kappa$, $\\varkappa$  | каппа\n",
        "$\\Lambda$     | $\\lambda$     | лямбда\n",
        "Μ     | $\\mu$     | мю\n",
        "Ν     | $\\nu$     | ню\n",
        "$\\Xi$     | $\\xi$     | кси\n",
        "Ο     | $\\omicron$     | омикрон\n",
        "Π     | $\\pi$     | пи\n",
        "Ρ     | $\\rho$     | ро\n",
        "$\\Sigma$    | $\\sigma$,$\\varsigma$   | сигма\n",
        "Τ     | $\\tau$     | тау\n",
        "Υ     | $\\upsilon$     | ипсилон\n",
        "Φ     | $\\phi$, $\\varphi$  | фи\n",
        "X     | $\\chi$     | хи\n",
        "$\\Psi$     | $\\psi$     | пси\n",
        "$\\Omega$     | $\\omega$     | омега"
      ],
      "metadata": {
        "id": "hC-dHywgmf05"
      }
    },
    {
      "cell_type": "markdown",
      "source": [
        "Формула в отдельной строке\n",
        "$${\\displaystyle f(x)={\\frac {1}{\\sigma {\\sqrt {2\\pi }}}}e^ {-{\\frac {1} {2}}\\left({\\frac {x-\\mu }{\\sigma }}\\right)^{2}}}$$\n",
        "\n",
        "Формула в тексте: ${\\displaystyle f(x)={\\frac {1}{\\sigma {\\sqrt {2\\pi }}}}e^ {-{\\frac {1} {2}}\\left({\\frac {x-\\mu }{\\sigma }}\\right)^{2}}}$"
      ],
      "metadata": {
        "id": "TsMGuw67_ocG"
      }
    },
    {
      "cell_type": "markdown",
      "source": [
        "#Заголовок первого уровня"
      ],
      "metadata": {
        "id": "TUZ2-wl3miVA"
      }
    },
    {
      "cell_type": "markdown",
      "source": [
        "## Заголовок второго уровня"
      ],
      "metadata": {
        "id": "vLaoLm5O-05h"
      }
    },
    {
      "cell_type": "markdown",
      "source": [
        "### Заголовок третьего уровня"
      ],
      "metadata": {
        "id": "CjQn9Rzi_FIu"
      }
    }
  ]
}